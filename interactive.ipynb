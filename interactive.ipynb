{
 "cells": [
  {
   "cell_type": "code",
   "execution_count": 19,
   "metadata": {},
   "outputs": [],
   "source": [
    "import KEGGutils as kg\n",
    "import networkx as nx\n",
    "from pyvis.network import Network\n",
    "from dataclasses import asdict\n",
    "from preprocess import process_pathway, process_link_graph\n",
    "from downloader import get_disease_gene_graph"
   ]
  },
  {
   "cell_type": "code",
   "execution_count": 20,
   "metadata": {},
   "outputs": [
    {
     "data": {
      "text/plain": [
       "'Prostate cancer'"
      ]
     },
     "execution_count": 20,
     "metadata": {},
     "output_type": "execute_result"
    }
   ],
   "source": [
    "pathway = kg.KEGGpathway(pathway_id=\"hsa05215\")\n",
    "pathway.title"
   ]
  },
  {
   "cell_type": "code",
   "execution_count": 21,
   "metadata": {},
   "outputs": [],
   "source": [
    "def element_repr(element: dict):\n",
    "    return \"\\n\".join(f\"{key}: {value}\" for key, value in element.items())"
   ]
  },
  {
   "cell_type": "code",
   "execution_count": 22,
   "metadata": {},
   "outputs": [],
   "source": [
    "nt = Network(directed=True, width=\"calc(100% - 500px)\", height=\"100%\")\n",
    "\n",
    "for node_id, node_data in pathway.nodes.data():\n",
    "    nt.add_node(node_id, label=node_data[\"name\"], title=element_repr(node_data))\n",
    "\n",
    "for edge_id, edge_data in pathway.relations.items():\n",
    "    nt.add_edge(\n",
    "        edge_data[\"node_ids\"][0],\n",
    "        edge_data[\"node_ids\"][1],\n",
    "        title=element_repr(edge_data),\n",
    "    )\n",
    "\n",
    "for edge_id, edge_data in pathway.reactions.items():\n",
    "    for substrate_id, substrate_name in edge_data[\"substrates\"]:\n",
    "        for product_id, product_name in edge_data[\"products\"]:\n",
    "            nt.add_edge(\n",
    "                str(substrate_id), str(product_id), title=element_repr(edge_data)\n",
    "            )"
   ]
  },
  {
   "cell_type": "code",
   "execution_count": 23,
   "metadata": {},
   "outputs": [],
   "source": [
    "nt.set_edge_smooth(\"dynamic\")\n",
    "nt.toggle_physics(True)\n",
    "nt.show_buttons(filter_=[\"physics\"])\n",
    "nt.show(\"pathway.html\")"
   ]
  },
  {
   "cell_type": "code",
   "execution_count": 24,
   "metadata": {},
   "outputs": [
    {
     "name": "stdout",
     "output_type": "stream",
     "text": [
      "MultiDiGraph with 90 nodes and 376 edges\n"
     ]
    }
   ],
   "source": [
    "processed_pathway = process_pathway(pathway)\n",
    "print(processed_pathway)"
   ]
  },
  {
   "cell_type": "code",
   "execution_count": 25,
   "metadata": {},
   "outputs": [],
   "source": [
    "pnt = Network(directed=True, width=\"calc(100% - 500px)\", height=\"100%\")\n",
    "\n",
    "for node_id, node_data in processed_pathway.nodes.data():\n",
    "    pnt.add_node(\n",
    "        node_id,\n",
    "        label=node_data[\"data\"].name,\n",
    "        title=element_repr(asdict(node_data[\"data\"])),\n",
    "    )\n",
    "\n",
    "for source, dest, edge_data in processed_pathway.edges.data():\n",
    "    pnt.add_edge(source, dest, title=element_repr(asdict(edge_data[\"data\"])))"
   ]
  },
  {
   "cell_type": "code",
   "execution_count": 26,
   "metadata": {},
   "outputs": [],
   "source": [
    "pnt.set_edge_smooth(\"dynamic\")\n",
    "pnt.toggle_physics(True)\n",
    "pnt.show_buttons(filter_=[\"physics\"])\n",
    "pnt.show(\"preprocessed-pathway.html\")"
   ]
  }
 ],
 "metadata": {
  "kernelspec": {
   "display_name": "Python 3.10.5 ('.venv': venv)",
   "language": "python",
   "name": "python3"
  },
  "language_info": {
   "codemirror_mode": {
    "name": "ipython",
    "version": 3
   },
   "file_extension": ".py",
   "mimetype": "text/x-python",
   "name": "python",
   "nbconvert_exporter": "python",
   "pygments_lexer": "ipython3",
   "version": "3.10.5"
  },
  "orig_nbformat": 4,
  "vscode": {
   "interpreter": {
    "hash": "e80cba77bb10bc7b1c83c1c40104c2248d8485a7afa29f7f080f684a6068134b"
   }
  }
 },
 "nbformat": 4,
 "nbformat_minor": 2
}
