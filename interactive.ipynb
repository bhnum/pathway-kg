{
 "cells": [
  {
   "cell_type": "code",
   "execution_count": 79,
   "metadata": {},
   "outputs": [],
   "source": [
    "import KEGGutils as kg\n",
    "import networkx as nx\n",
    "from pyvis.network import Network"
   ]
  },
  {
   "cell_type": "code",
   "execution_count": 54,
   "metadata": {},
   "outputs": [
    {
     "data": {
      "text/plain": [
       "'Prostate cancer'"
      ]
     },
     "execution_count": 54,
     "metadata": {},
     "output_type": "execute_result"
    }
   ],
   "source": [
    "pathway = kg.KEGGpathway(pathway_id=\"hsa05215\")\n",
    "pathway.title"
   ]
  },
  {
   "cell_type": "code",
   "execution_count": 55,
   "metadata": {},
   "outputs": [],
   "source": [
    "def element_repr(element: dict):\n",
    "    return \"\\n\".join(f\"{key}: {value}\" for key, value in element.items())"
   ]
  },
  {
   "cell_type": "code",
   "execution_count": 87,
   "metadata": {},
   "outputs": [],
   "source": [
    "nt = Network(directed=True, width=\"100%\", height=\"100%\")\n",
    "\n",
    "for node_id, node_data in pathway.nodes.data():\n",
    "    nt.add_node(node_id, label=node_data[\"name\"], title=element_repr(node_data))\n",
    "\n",
    "for edge_id, edge_data in pathway.relations.items():\n",
    "    nt.add_edge(edge_data[\"node_ids\"][0], edge_data[\"node_ids\"][1], title=element_repr(edge_data))"
   ]
  },
  {
   "cell_type": "code",
   "execution_count": 88,
   "metadata": {},
   "outputs": [],
   "source": [
    "nt.set_edge_smooth('dynamic')\n",
    "nt.toggle_physics(True)\n",
    "nt.show_buttons(filter_=['physics'])\n",
    "nt.show(\"pathway.html\")"
   ]
  }
 ],
 "metadata": {
  "kernelspec": {
   "display_name": "Python 3.10.5 ('.venv': venv)",
   "language": "python",
   "name": "python3"
  },
  "language_info": {
   "codemirror_mode": {
    "name": "ipython",
    "version": 3
   },
   "file_extension": ".py",
   "mimetype": "text/x-python",
   "name": "python",
   "nbconvert_exporter": "python",
   "pygments_lexer": "ipython3",
   "version": "3.10.5"
  },
  "orig_nbformat": 4,
  "vscode": {
   "interpreter": {
    "hash": "e80cba77bb10bc7b1c83c1c40104c2248d8485a7afa29f7f080f684a6068134b"
   }
  }
 },
 "nbformat": 4,
 "nbformat_minor": 2
}
